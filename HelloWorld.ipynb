{
 "cells": [
  {
   "cell_type": "code",
   "execution_count": null,
   "id": "e03bdd6e-c3fd-4cdb-8bd5-0f89737f49a9",
   "metadata": {},
   "outputs": [],
   "source": [
    "print(\"Hello, World!\")"
   ]
  },
  {
   "cell_type": "markdown",
   "id": "0e72b6c4-1a3f-4a30-b9b8-b744016c519f",
   "metadata": {},
   "source": [
    "# My first Markdown heading"
   ]
  },
  {
   "cell_type": "markdown",
   "id": "017b0d1f-15de-4809-b58c-9a400d6b00a1",
   "metadata": {},
   "source": [
    "## My Second Markdown headingt"
   ]
  },
  {
   "cell_type": "markdown",
   "id": "35a096f3-c98d-49df-a72e-5d8aa3df3ea6",
   "metadata": {},
   "source": [
    "this is some **bold** text"
   ]
  },
  {
   "cell_type": "markdown",
   "id": "8fc6c738-bb76-4510-8d3e-f599aba60755",
   "metadata": {},
   "source": [
    "1. FIrst item\n",
    "2. second item\n",
    "3. third item"
   ]
  },
  {
   "cell_type": "code",
   "execution_count": 6,
   "id": "91c22453-9ebc-480e-aa0c-2583f044bd54",
   "metadata": {},
   "outputs": [],
   "source": [
    "my_var = 5"
   ]
  },
  {
   "cell_type": "code",
   "execution_count": 7,
   "id": "36ca3eef-4bd5-406a-bd15-cc0547114b2c",
   "metadata": {},
   "outputs": [
    {
     "data": {
      "text/plain": [
       "5"
      ]
     },
     "execution_count": 7,
     "metadata": {},
     "output_type": "execute_result"
    }
   ],
   "source": [
    "my_var"
   ]
  },
  {
   "cell_type": "code",
   "execution_count": 8,
   "id": "de8d9fde-dd03-48ba-a063-361a05ef9812",
   "metadata": {},
   "outputs": [],
   "source": [
    "result = my_var*6"
   ]
  },
  {
   "cell_type": "code",
   "execution_count": 9,
   "id": "77542fce-e98a-4cea-b518-45c0b830821d",
   "metadata": {},
   "outputs": [
    {
     "name": "stdout",
     "output_type": "stream",
     "text": [
      "30\n"
     ]
    }
   ],
   "source": [
    "print(result)"
   ]
  },
  {
   "cell_type": "code",
   "execution_count": null,
   "id": "9029a1ef-4150-44b4-ab14-dc19e55df005",
   "metadata": {},
   "outputs": [],
   "source": []
  }
 ],
 "metadata": {
  "kernelspec": {
   "display_name": "Python 3 (ipykernel)",
   "language": "python",
   "name": "python3"
  },
  "language_info": {
   "codemirror_mode": {
    "name": "ipython",
    "version": 3
   },
   "file_extension": ".py",
   "mimetype": "text/x-python",
   "name": "python",
   "nbconvert_exporter": "python",
   "pygments_lexer": "ipython3",
   "version": "3.10.13"
  }
 },
 "nbformat": 4,
 "nbformat_minor": 5
}
